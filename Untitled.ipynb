{
 "cells": [
  {
   "cell_type": "code",
   "execution_count": 2215,
   "metadata": {},
   "outputs": [],
   "source": [
    "import numpy as np\n",
    "import matplotlib.pyplot as plt"
   ]
  },
  {
   "cell_type": "code",
   "execution_count": 2523,
   "metadata": {},
   "outputs": [],
   "source": [
    "d0 = np.load(\"data/mask0.npy\")\n",
    "d1 = np.load(\"data/mask1.npy\")\n",
    "#d2 = np.load(\"data/mask2.npy\")\n",
    "#d3 = np.load(\"data/mask3.npy\")\n",
    "#d4 = np.load(\"data/mask4.npy\")\n",
    "#d5 = np.load(\"data/mask5.npy\")\n",
    "#d7 = np.load(\"data/mask7.npy\")\n",
    "#d8 = np.load(\"data/mask8.npy\")\n",
    "#d80 = np.load(\"data/mask80.npy\")"
   ]
  },
  {
   "cell_type": "code",
   "execution_count": 2522,
   "metadata": {},
   "outputs": [
    {
     "data": {
      "text/plain": [
       "array([[5.6238663e-05, 9.9988723e-01, 5.6456891e-05],\n",
       "       [5.6233945e-05, 9.9988723e-01, 5.6452529e-05],\n",
       "       [5.6232551e-05, 9.9988723e-01, 5.6451347e-05],\n",
       "       ...,\n",
       "       [6.6796833e-06, 9.9998665e-01, 6.7163232e-06],\n",
       "       [6.6798552e-06, 9.9998665e-01, 6.7164897e-06],\n",
       "       [6.6804478e-06, 9.9998665e-01, 6.7170467e-06]], dtype=float32)"
      ]
     },
     "execution_count": 2522,
     "metadata": {},
     "output_type": "execute_result"
    }
   ],
   "source": [
    "d2[:, ]"
   ]
  },
  {
   "cell_type": "code",
   "execution_count": 2527,
   "metadata": {},
   "outputs": [],
   "source": [
    "dd = np.argmax(d1, axis=1)"
   ]
  },
  {
   "cell_type": "code",
   "execution_count": 2528,
   "metadata": {},
   "outputs": [
    {
     "data": {
      "text/plain": [
       "array([2, 2, 2, ..., 1, 1, 1])"
      ]
     },
     "execution_count": 2528,
     "metadata": {},
     "output_type": "execute_result"
    }
   ],
   "source": [
    "dd"
   ]
  },
  {
   "cell_type": "code",
   "execution_count": 2529,
   "metadata": {},
   "outputs": [
    {
     "data": {
      "text/plain": [
       "[<matplotlib.lines.Line2D at 0x7fcc72c555e0>]"
      ]
     },
     "execution_count": 2529,
     "metadata": {},
     "output_type": "execute_result"
    },
    {
     "data": {
      "image/png": "[encoded data removed]",
      "text/plain": [
       "<Figure size 432x288 with 1 Axes>"
      ]
     },
     "metadata": {
      "needs_background": "light"
     },
     "output_type": "display_data"
    }
   ],
   "source": [
    "plt.plot(dd)"
   ]
  },
  {
   "cell_type": "code",
   "execution_count": 2471,
   "metadata": {},
   "outputs": [
    {
     "data": {
      "text/plain": [
       "[<matplotlib.lines.Line2D at 0x7fcc726b76a0>]"
      ]
     },
     "execution_count": 2471,
     "metadata": {},
     "output_type": "execute_result"
    },
    {
     "data": {
      "image/png": "[encoded data removed]",
      "text/plain": [
       "<Figure size 432x288 with 1 Axes>"
      ]
     },
     "metadata": {
      "needs_background": "light"
     },
     "output_type": "display_data"
    }
   ],
   "source": [
    "plt.plot(d0[:, 0])\n",
    "plt.plot(d80[:, 1])\n",
    "plt.plot(d80[:, 2])"
   ]
  },
  {
   "cell_type": "code",
   "execution_count": 2277,
   "metadata": {},
   "outputs": [
    {
     "data": {
      "text/plain": [
       "[<matplotlib.lines.Line2D at 0x7fccc78c4b80>]"
      ]
     },
     "execution_count": 2277,
     "metadata": {},
     "output_type": "execute_result"
    },
    {
     "data": {
      "image/png": "[encoded data removed]",
      "text/plain": [
       "<Figure size 432x288 with 1 Axes>"
      ]
     },
     "metadata": {
      "needs_background": "light"
     },
     "output_type": "display_data"
    }
   ],
   "source": [
    "plt.plot(dd[1050:1055])"
   ]
  },
  {
   "cell_type": "code",
   "execution_count": 2278,
   "metadata": {},
   "outputs": [
    {
     "data": {
      "text/plain": [
       "array([0, 0, 0, 0, 0])"
      ]
     },
     "execution_count": 2278,
     "metadata": {},
     "output_type": "execute_result"
    }
   ],
   "source": [
    "dd[1050:1055]"
   ]
  },
  {
   "cell_type": "code",
   "execution_count": 2264,
   "metadata": {},
   "outputs": [
    {
     "name": "stdout",
     "output_type": "stream",
     "text": [
      "300\n"
     ]
    }
   ],
   "source": [
    "arg = np.argmax(d4, axis=1)\n",
    "print(np.sum(arg == 1))"
   ]
  },
  {
   "cell_type": "code",
   "execution_count": 2265,
   "metadata": {},
   "outputs": [
    {
     "data": {
      "text/plain": [
       "300"
      ]
     },
     "execution_count": 2265,
     "metadata": {},
     "output_type": "execute_result"
    }
   ],
   "source": [
    "np.sum(arg == 1)"
   ]
  },
  {
   "cell_type": "code",
   "execution_count": 2329,
   "metadata": {},
   "outputs": [],
   "source": [
    "losses_old = losses_train"
   ]
  },
  {
   "cell_type": "code",
   "execution_count": 2553,
   "metadata": {},
   "outputs": [],
   "source": [
    "losses_train = np.load(\"data/losses_train.npy\")"
   ]
  },
  {
   "cell_type": "code",
   "execution_count": 2554,
   "metadata": {},
   "outputs": [
    {
     "data": {
      "text/plain": [
       "[<matplotlib.lines.Line2D at 0x7fcc85243910>]"
      ]
     },
     "execution_count": 2554,
     "metadata": {},
     "output_type": "execute_result"
    },
    {
     "data": {
      "image/png": "[encoded data removed]",
      "text/plain": [
       "<Figure size 432x288 with 1 Axes>"
      ]
     },
     "metadata": {
      "needs_background": "light"
     },
     "output_type": "display_data"
    }
   ],
   "source": [
    "plt.plot(losses_train[:], alpha=0.5)\n",
    "#plt.plot(losses_old[:], alpha=0.5)"
   ]
  },
  {
   "cell_type": "code",
   "execution_count": 2555,
   "metadata": {},
   "outputs": [],
   "source": [
    "losses_test = np.load(\"data/losses_test.npy\")"
   ]
  },
  {
   "cell_type": "code",
   "execution_count": 2556,
   "metadata": {},
   "outputs": [
    {
     "data": {
      "text/plain": [
       "[<matplotlib.lines.Line2D at 0x7fcc731e1f70>]"
      ]
     },
     "execution_count": 2556,
     "metadata": {},
     "output_type": "execute_result"
    },
    {
     "data": {
      "image/png": "[encoded data removed]",
      "text/plain": [
       "<Figure size 432x288 with 1 Axes>"
      ]
     },
     "metadata": {
      "needs_background": "light"
     },
     "output_type": "display_data"
    }
   ],
   "source": [
    "plt.plot(losses_train[500::500])\n",
    "plt.plot(losses_test[:])"
   ]
  },
  {
   "cell_type": "code",
   "execution_count": 2557,
   "metadata": {},
   "outputs": [
    {
     "data": {
      "text/plain": [
       "array([158.64917  , 122.02886  ,  71.12542  ,  30.499355 ,  20.724335 ,\n",
       "        16.948141 ,  14.440988 ,  14.790008 ,  12.149319 ,  12.162721 ,\n",
       "        11.027384 ,  10.938289 ,  11.035488 ,  10.208186 ,  11.508641 ,\n",
       "         9.79162  ,  10.583728 ,   9.341824 ,   9.014776 ,   8.836428 ,\n",
       "         8.75819  ,   7.981903 ,   8.58926  ,  10.451737 ,   7.9544454,\n",
       "         8.228266 ,   7.4040475,   8.079774 ,   8.40251  ,   7.199571 ,\n",
       "         6.904018 ,   7.609658 ,   7.2264805,   7.586887 ,   5.894031 ,\n",
       "         5.6449523,   5.6368833], dtype=float32)"
      ]
     },
     "execution_count": 2557,
     "metadata": {},
     "output_type": "execute_result"
    }
   ],
   "source": [
    "losses_test"
   ]
  },
  {
   "cell_type": "code",
   "execution_count": 2500,
   "metadata": {},
   "outputs": [
    {
     "data": {
      "text/plain": [
       "array([357.47406, 342.47943, 334.4386 , ..., 145.70491, 155.44621,\n",
       "       146.01303], dtype=float32)"
      ]
     },
     "execution_count": 2500,
     "metadata": {},
     "output_type": "execute_result"
    }
   ],
   "source": [
    "losses_train"
   ]
  },
  {
   "cell_type": "code",
   "execution_count": 1265,
   "metadata": {},
   "outputs": [
    {
     "data": {
      "text/plain": [
       "[<matplotlib.lines.Line2D at 0x7fcd47ac74f0>]"
      ]
     },
     "execution_count": 1265,
     "metadata": {},
     "output_type": "execute_result"
    },
    {
     "data": {
      "image/png": "[encoded data removed]",
      "text/plain": [
       "<Figure size 432x288 with 1 Axes>"
      ]
     },
     "metadata": {
      "needs_background": "light"
     },
     "output_type": "display_data"
    }
   ],
   "source": [
    "plt.plot(losses_train[::500])\n",
    "plt.plot(losses_test[:])"
   ]
  },
  {
   "cell_type": "code",
   "execution_count": 1225,
   "metadata": {},
   "outputs": [
    {
     "data": {
      "text/plain": [
       "array([115.2998   ,  55.41045  ,  63.815117 ,  47.998917 ,  13.092356 ,\n",
       "        10.541421 ,   8.032732 ,   5.137007 ,   5.5888257,   5.7929173,\n",
       "         5.283708 ,   3.890633 ,   4.6278424,   4.6150103,   3.430058 ,\n",
       "         3.4801722,   2.9848647,   2.229545 ,   2.604097 ,   2.3259   ,\n",
       "         2.2754383,   2.1440554,   1.611294 ,   2.4540353,   2.1118183,\n",
       "         1.9572666,   1.5706058,   1.7669642,   1.6861384,   1.6035061,\n",
       "         1.5268183,   1.2666056,   1.4821713,   1.2067444,   1.139677 ],\n",
       "      dtype=float32)"
      ]
     },
     "execution_count": 1225,
     "metadata": {},
     "output_type": "execute_result"
    }
   ],
   "source": [
    "losses_train[500::500]"
   ]
  },
  {
   "cell_type": "code",
   "execution_count": 2472,
   "metadata": {},
   "outputs": [
    {
     "data": {
      "text/plain": [
       "40.0"
      ]
     },
     "execution_count": 2472,
     "metadata": {},
     "output_type": "execute_result"
    }
   ],
   "source": [
    "20000/500"
   ]
  },
  {
   "cell_type": "code",
   "execution_count": null,
   "metadata": {},
   "outputs": [],
   "source": []
  }
 ],
 "metadata": {
  "kernelspec": {
   "display_name": "Python 3",
   "language": "python",
   "name": "python3"
  },
  "language_info": {
   "codemirror_mode": {
    "name": "ipython",
    "version": 3
   },
   "file_extension": ".py",
   "mimetype": "text/x-python",
   "name": "python",
   "nbconvert_exporter": "python",
   "pygments_lexer": "ipython3",
   "version": "3.8.5"
  }
 },
 "nbformat": 4,
 "nbformat_minor": 4
}
