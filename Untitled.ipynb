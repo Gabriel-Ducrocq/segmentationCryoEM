{
 "cells": [
  {
   "cell_type": "code",
   "execution_count": 218,
   "metadata": {},
   "outputs": [],
   "source": [
    "import numpy as np\n",
    "import matplotlib.pyplot as plt"
   ]
  },
  {
   "cell_type": "code",
<<<<<<< HEAD
   "execution_count": 99,
=======
   "execution_count": 219,
>>>>>>> overfitting_domains
   "metadata": {},
   "outputs": [],
   "source": [
    "d0 = np.load(\"data/mask0.npy\")\n",
    "d1 = np.load(\"data/mask1.npy\")\n",
    "d2 = np.load(\"data/mask2.npy\")\n",
    "d3 = np.load(\"data/mask3.npy\")\n",
    "d4 = np.load(\"data/mask4.npy\")\n",
    "d5 = np.load(\"data/mask5.npy\")"
   ]
  },
  {
   "cell_type": "code",
<<<<<<< HEAD
   "execution_count": 100,
=======
   "execution_count": 220,
>>>>>>> overfitting_domains
   "metadata": {},
   "outputs": [
    {
     "data": {
      "text/plain": [
<<<<<<< HEAD
       "array([0.4937305, 0.5062695], dtype=float32)"
      ]
     },
     "execution_count": 100,
=======
       "array([1.0000000e+00, 1.1432052e-28], dtype=float32)"
      ]
     },
     "execution_count": 220,
>>>>>>> overfitting_domains
     "metadata": {},
     "output_type": "execute_result"
    }
   ],
   "source": [
    "d0[299, :]"
   ]
  },
  {
   "cell_type": "code",
<<<<<<< HEAD
   "execution_count": 101,
=======
   "execution_count": 221,
>>>>>>> overfitting_domains
   "metadata": {},
   "outputs": [
    {
     "data": {
      "text/plain": [
<<<<<<< HEAD
       "array([4.4251574e-06, 9.9999559e-01], dtype=float32)"
      ]
     },
     "execution_count": 101,
=======
       "array([2.398065e-08, 1.000000e+00], dtype=float32)"
      ]
     },
     "execution_count": 221,
>>>>>>> overfitting_domains
     "metadata": {},
     "output_type": "execute_result"
    }
   ],
   "source": [
    "d1[750, :]"
   ]
  },
  {
   "cell_type": "code",
<<<<<<< HEAD
   "execution_count": 102,
=======
   "execution_count": 222,
>>>>>>> overfitting_domains
   "metadata": {},
   "outputs": [
    {
     "data": {
      "text/plain": [
<<<<<<< HEAD
       "array([6.517068e-07, 9.999994e-01], dtype=float32)"
      ]
     },
     "execution_count": 102,
=======
       "array([2.0357392e-08, 1.0000000e+00], dtype=float32)"
      ]
     },
     "execution_count": 222,
>>>>>>> overfitting_domains
     "metadata": {},
     "output_type": "execute_result"
    }
   ],
   "source": [
    "d2[750, :]"
   ]
  },
  {
   "cell_type": "code",
<<<<<<< HEAD
   "execution_count": 103,
=======
   "execution_count": 223,
>>>>>>> overfitting_domains
   "metadata": {},
   "outputs": [
    {
     "data": {
      "text/plain": [
<<<<<<< HEAD
       "array([2.4552361e-07, 9.9999976e-01], dtype=float32)"
      ]
     },
     "execution_count": 103,
=======
       "array([1.7405894e-08, 1.0000000e+00], dtype=float32)"
      ]
     },
     "execution_count": 223,
>>>>>>> overfitting_domains
     "metadata": {},
     "output_type": "execute_result"
    }
   ],
   "source": [
    "d3[750, :]"
   ]
  },
  {
   "cell_type": "code",
<<<<<<< HEAD
   "execution_count": 106,
=======
   "execution_count": 224,
>>>>>>> overfitting_domains
   "metadata": {},
   "outputs": [
    {
     "data": {
      "text/plain": [
<<<<<<< HEAD
       "[<matplotlib.lines.Line2D at 0x7fcd30a710d0>]"
      ]
     },
     "execution_count": 106,
=======
       "[<matplotlib.lines.Line2D at 0x7fcd58542100>]"
      ]
     },
     "execution_count": 224,
>>>>>>> overfitting_domains
     "metadata": {},
     "output_type": "execute_result"
    },
    {
     "data": {
<<<<<<< HEAD
      "image/png": "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\n",
=======
      "image/png": "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\n",
>>>>>>> overfitting_domains
      "text/plain": [
       "<Figure size 432x288 with 1 Axes>"
      ]
     },
     "metadata": {
      "needs_background": "light"
     },
     "output_type": "display_data"
    }
   ],
   "source": [
    "plt.plot(d0[:, 0])\n",
    "plt.plot(d1[:, 0])\n",
    "plt.plot(d2[:, 0])\n",
<<<<<<< HEAD
    "plt.plot(d3[:, 0])"
=======
    "plt.plot(d3[:, 0])\n",
    "plt.plot(d4[:, 0])"
>>>>>>> overfitting_domains
   ]
  },
  {
   "cell_type": "code",
<<<<<<< HEAD
   "execution_count": 80,
=======
   "execution_count": 235,
>>>>>>> overfitting_domains
   "metadata": {},
   "outputs": [],
   "source": [
    "arg = np.argmax(d5, axis=1)"
   ]
  },
  {
   "cell_type": "code",
<<<<<<< HEAD
   "execution_count": 81,
=======
   "execution_count": 236,
>>>>>>> overfitting_domains
   "metadata": {},
   "outputs": [
    {
     "data": {
      "text/plain": [
       "377"
      ]
     },
<<<<<<< HEAD
     "execution_count": 81,
=======
     "execution_count": 236,
>>>>>>> overfitting_domains
     "metadata": {},
     "output_type": "execute_result"
    }
   ],
   "source": [
    "np.sum(arg == 0)"
   ]
  },
  {
   "cell_type": "code",
   "execution_count": 82,
   "metadata": {},
   "outputs": [
    {
     "data": {
      "text/plain": [
       "377.5"
      ]
     },
     "execution_count": 82,
     "metadata": {},
     "output_type": "execute_result"
    }
   ],
   "source": [
    "1510/4"
   ]
  },
  {
   "cell_type": "code",
   "execution_count": null,
   "metadata": {},
   "outputs": [],
   "source": []
  }
 ],
 "metadata": {
  "kernelspec": {
   "display_name": "Python 3",
   "language": "python",
   "name": "python3"
  },
  "language_info": {
   "codemirror_mode": {
    "name": "ipython",
    "version": 3
   },
   "file_extension": ".py",
   "mimetype": "text/x-python",
   "name": "python",
   "nbconvert_exporter": "python",
   "pygments_lexer": "ipython3",
   "version": "3.8.5"
  }
 },
 "nbformat": 4,
 "nbformat_minor": 4
}
