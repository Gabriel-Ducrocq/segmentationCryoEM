{
 "cells": [
  {
   "cell_type": "code",
   "execution_count": 1,
   "id": "7141f1c4",
   "metadata": {},
   "outputs": [],
   "source": [
    "import numpy as np\n",
    "import torch"
   ]
  },
  {
   "cell_type": "code",
   "execution_count": 2,
   "id": "24b652bc",
   "metadata": {},
   "outputs": [
    {
     "name": "stdout",
     "output_type": "stream",
     "text": [
      "MPNN.py          createGraph.py   full_model       network.py\r\n",
      "Untitled.ipynb   \u001b[34mdata\u001b[m\u001b[m/            main.py          \u001b[34mruns\u001b[m\u001b[m/\r\n",
      "Untitled1.ipynb  deform.py        mlp.py           utils.py\r\n",
      "\u001b[34m__pycache__\u001b[m\u001b[m/     environment.yml  model\r\n"
     ]
    }
   ],
   "source": [
    "ls"
   ]
  },
  {
   "cell_type": "code",
   "execution_count": null,
   "id": "54bcd08d",
   "metadata": {},
   "outputs": [],
   "source": []
  }
 ],
 "metadata": {
  "kernelspec": {
   "display_name": "conformationalLatent",
   "language": "python",
   "name": "conformationallatent"
  },
  "language_info": {
   "codemirror_mode": {
    "name": "ipython",
    "version": 3
   },
   "file_extension": ".py",
   "mimetype": "text/x-python",
   "name": "python",
   "nbconvert_exporter": "python",
   "pygments_lexer": "ipython3",
   "version": "3.10.4"
  }
 },
 "nbformat": 4,
 "nbformat_minor": 5
}
