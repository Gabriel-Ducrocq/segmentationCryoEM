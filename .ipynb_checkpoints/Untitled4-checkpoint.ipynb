{
 "cells": [
  {
   "cell_type": "code",
   "execution_count": 38,
   "id": "c8ece3d4",
   "metadata": {},
   "outputs": [],
   "source": [
    "import nglview as nv\n",
    "import torch \n",
    "import numpy as np\n",
    "import matplotlib.pyplot as plt\n",
    "from Bio.PDB import PDBIO\n",
    "from Bio.PDB.PDBParser import PDBParser"
   ]
  },
  {
   "cell_type": "code",
   "execution_count": 7,
   "id": "25deff71",
   "metadata": {},
   "outputs": [],
   "source": [
    "file = \"data/ranked_0_round1.pdb\"\n",
    "path = \"data/variationalBayesTest3/\""
   ]
  },
  {
   "cell_type": "code",
   "execution_count": 40,
   "id": "d045a9fc",
   "metadata": {},
   "outputs": [],
   "source": [
    "def deform_pdb(structure, translations_python):\n",
    "    to_deform = structure.copy()\n",
    "    for model in to_deform:\n",
    "        for chain in model:\n",
    "            for k, residue in enumerate(chain):\n",
    "                for atom in residue:\n",
    "                    atom.set_coord(atom.get_coord() + translations_python[0][k])\n",
    "                    \n",
    "    return to_deform"
   ]
  },
  {
   "cell_type": "code",
   "execution_count": null,
   "id": "acf20957",
   "metadata": {},
   "outputs": [],
   "source": [
    "def true_deform_pdb(        batch_size = self.batch_size\n",
    "        true_deformed_structure = torch.empty((batch_size, 3*self.N_residues, 3), device=self.device)\n",
    "        true_deformed_structure[:, :3*self.cutoff1, :] = self.atom_absolute_positions[:3*self.cutoff1, :] + true_deformation[:, 0:1, :]#**3\n",
    "        true_deformed_structure[:, 3 * self.cutoff1:3*self.cutoff2, :] = self.atom_absolute_positions[3 * self.cutoff1:3*self.cutoff2, :] + true_deformation[:, 1:2, :]#**3\n",
    "        true_deformed_structure[:, 3 * self.cutoff2:, :] = self.atom_absolute_positions[3 * self.cutoff2:, :] + true_deformation[:, 2:3, :]#**3\n",
    "        rmsd = torch.mean(torch.sqrt(torch.mean(torch.sum((new_structure - true_deformed_structure)**2, dim=2), dim=1))))"
   ]
  },
  {
   "cell_type": "code",
   "execution_count": 25,
   "id": "33fcb3e9",
   "metadata": {},
   "outputs": [],
   "source": [
    "parser = PDBParser(PERMISSIVE=0)\n",
    "base_structure = parser.get_structure(\"A\", file)\n",
    "to_deform = base_structure.copy()"
   ]
  },
  {
   "cell_type": "code",
   "execution_count": 4,
   "id": "2290b7e3",
   "metadata": {},
   "outputs": [],
   "source": [
    "training_set = torch.load(path+\"training_set.npy\", map_location=torch.device('cpu'))\n",
    "full_model = torch.load(path+\"full_model\", map_location=torch.device('cpu'))"
   ]
  },
  {
   "cell_type": "code",
   "execution_count": 5,
   "id": "8a862483",
   "metadata": {},
   "outputs": [],
   "source": [
    "full_model.device = \"cpu\"\n",
    "full_model.batch_size = 100000\n",
    "cutoff1 = full_model.cutoff1\n",
    "cutoff2 = full_model.cutoff2"
   ]
  },
  {
   "cell_type": "code",
   "execution_count": 6,
   "id": "b15e7594",
   "metadata": {},
   "outputs": [],
   "source": [
    "indexes = torch.tensor(np.array(range(100000)))\n",
    "latent_vars = full_model.sample_q(indexes)\n",
    "new_struct, mask_weights, translations = full_model.forward(None, None, None, latent_vars)"
   ]
  },
  {
   "cell_type": "code",
   "execution_count": 23,
   "id": "49f81a6a",
   "metadata": {},
   "outputs": [],
   "source": [
    "translations_python = translations.detach().numpy()"
   ]
  },
  {
   "cell_type": "code",
   "execution_count": 42,
   "id": "f54523e1",
   "metadata": {},
   "outputs": [],
   "source": [
    "to_deform = deform_pdb(base_structure, translations_python)"
   ]
  },
  {
   "cell_type": "code",
   "execution_count": 43,
   "id": "bd301910",
   "metadata": {},
   "outputs": [],
   "source": [
    "io = PDBIO()\n",
    "io.set_structure(to_deform)\n",
    "io.save(\"test.pdb\")"
   ]
  },
  {
   "cell_type": "code",
   "execution_count": 46,
   "id": "7ecdb4bc",
   "metadata": {},
   "outputs": [
    {
     "data": {
      "application/vnd.jupyter.widget-view+json": {
       "model_id": "529a8ec291e64d48bc41c34e9e4dacc9",
       "version_major": 2,
       "version_minor": 0
      },
      "text/plain": [
       "NGLWidget()"
      ]
     },
     "metadata": {},
     "output_type": "display_data"
    }
   ],
   "source": [
    "view = nv.NGLWidget()\n",
    "view.add_component(\"data/ranked_0_round1.pdb\")\n",
    "view.add_component(\"test.pdb\")\n",
    "view"
   ]
  },
  {
   "cell_type": "code",
   "execution_count": 47,
   "id": "83890cd7",
   "metadata": {},
   "outputs": [
    {
     "data": {
      "text/plain": [
       "torch.Size([100000, 9])"
      ]
     },
     "execution_count": 47,
     "metadata": {},
     "output_type": "execute_result"
    }
   ],
   "source": [
    "training_set.shape"
   ]
  },
  {
   "cell_type": "code",
   "execution_count": null,
   "id": "5e864472",
   "metadata": {},
   "outputs": [],
   "source": []
  }
 ],
 "metadata": {
  "kernelspec": {
   "display_name": "segmentationLatentViz",
   "language": "python",
   "name": "segmentationlatentviz"
  },
  "language_info": {
   "codemirror_mode": {
    "name": "ipython",
    "version": 3
   },
   "file_extension": ".py",
   "mimetype": "text/x-python",
   "name": "python",
   "nbconvert_exporter": "python",
   "pygments_lexer": "ipython3",
   "version": "3.10.4"
  }
 },
 "nbformat": 4,
 "nbformat_minor": 5
}
