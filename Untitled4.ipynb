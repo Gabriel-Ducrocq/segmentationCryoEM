{
 "cells": [
  {
   "cell_type": "code",
   "execution_count": 83,
   "id": "4c9a86c5",
   "metadata": {},
   "outputs": [],
   "source": [
    "import nglview as nv\n",
    "import torch \n",
    "import numpy as np\n",
    "import matplotlib.pyplot as plt\n",
    "from Bio.PDB import PDBIO\n",
    "from Bio.PDB.PDBParser import PDBParser"
   ]
  },
  {
   "cell_type": "code",
   "execution_count": 84,
   "id": "8b45664f",
   "metadata": {},
   "outputs": [],
   "source": [
    "file = \"data/ranked_0_round1.pdb\"\n",
    "path = \"data/variationalBayesTest3/\""
   ]
  },
  {
   "cell_type": "code",
   "execution_count": 100,
   "id": "5c085b46",
   "metadata": {},
   "outputs": [],
   "source": [
    "def deform_pdb(structure, translations_python):\n",
    "    to_deform = structure.copy()\n",
    "    for model in to_deform:\n",
    "        for chain in model:\n",
    "            for k, residue in enumerate(chain):\n",
    "                for atom in residue:\n",
    "                    atom.set_coord(atom.get_coord() + translations_python[k])\n",
    "                    \n",
    "    return to_deform"
   ]
  },
  {
   "cell_type": "code",
   "execution_count": 86,
   "id": "5c014bfb",
   "metadata": {},
   "outputs": [],
   "source": [
    "def true_deform_pdb(structure, translations_python, cutoff1, cutoff2):\n",
    "    to_deform = structure.copy()\n",
    "    for model in to_deform:\n",
    "        for chain in model:\n",
    "            for k, residue in enumerate(chain):\n",
    "                for atom in residue:\n",
    "                    if k < cutoff1:\n",
    "                        atom.set_coord(atom.get_coord() + translations_python[:3])\n",
    "                    elif k < cutoff2:\n",
    "                        atom.set_coord(atom.get_coord() + translations_python[3:6])\n",
    "                    else:\n",
    "                        atom.set_coord(atom.get_coord() + translations_python[6:])\n",
    "                    \n",
    "    return to_deform"
   ]
  },
  {
   "cell_type": "code",
   "execution_count": 87,
   "id": "7f94ee07",
   "metadata": {},
   "outputs": [],
   "source": [
    "parser = PDBParser(PERMISSIVE=0)\n",
    "base_structure = parser.get_structure(\"A\", file)\n",
    "to_deform = base_structure.copy()"
   ]
  },
  {
   "cell_type": "code",
   "execution_count": 88,
   "id": "da168147",
   "metadata": {},
   "outputs": [],
   "source": [
    "training_set = torch.load(path+\"training_set.npy\", map_location=torch.device('cpu'))\n",
    "full_model = torch.load(path+\"full_model\", map_location=torch.device('cpu'))"
   ]
  },
  {
   "cell_type": "code",
   "execution_count": 89,
   "id": "f472c52b",
   "metadata": {},
   "outputs": [],
   "source": [
    "full_model.device = \"cpu\"\n",
    "full_model.batch_size = 100000\n",
    "cutoff1 = full_model.cutoff1\n",
    "cutoff2 = full_model.cutoff2"
   ]
  },
  {
   "cell_type": "code",
   "execution_count": 62,
   "id": "37ebfa76",
   "metadata": {},
   "outputs": [],
   "source": [
    "indexes = torch.tensor(np.array(range(100000)))\n",
    "latent_vars = full_model.sample_q(indexes)\n",
    "new_struct, mask_weights, translations = full_model.forward(None, None, None, latent_vars)"
   ]
  },
  {
   "cell_type": "code",
   "execution_count": 71,
   "id": "b791d37d",
   "metadata": {},
   "outputs": [],
   "source": [
    "training_set_python = training_set.detach().numpy()\n",
    "translations_python = translations.detach().numpy()"
   ]
  },
  {
   "cell_type": "code",
   "execution_count": 101,
   "id": "7bc76592",
   "metadata": {},
   "outputs": [],
   "source": [
    "predicted_deform = deform_pdb(base_structure, translations_python[400])\n",
    "true_deform = true_deform_pdb(base_structure, training_set_python[400], cutoff1, cutoff2)"
   ]
  },
  {
   "cell_type": "code",
   "execution_count": 102,
   "id": "1761a6bc",
   "metadata": {},
   "outputs": [],
   "source": [
    "io = PDBIO()\n",
    "io.set_structure(true_deform)\n",
    "io.save(\"true.pdb\")\n",
    "\n",
    "io = PDBIO()\n",
    "io.set_structure(predicted_deform)\n",
    "io.save(\"test.pdb\")\n"
   ]
  },
  {
   "cell_type": "code",
   "execution_count": 117,
   "id": "80cb32f7",
   "metadata": {},
   "outputs": [
    {
     "data": {
      "application/vnd.jupyter.widget-view+json": {
       "model_id": "cf4d299f9b754c2790afb9a8fd5eb77a",
       "version_major": 2,
       "version_minor": 0
      },
      "text/plain": [
       "NGLWidget()"
      ]
     },
     "metadata": {},
     "output_type": "display_data"
    }
   ],
   "source": [
    "view = nv.NGLWidget()\n",
    "view.add_component(\"data/ranked_0_round1.pdb\")\n",
    "view.add_component(\"test.pdb\")\n",
    "view.add_component(\"true.pdb\")\n",
    "view.parameters()"
   ]
  },
  {
   "cell_type": "code",
   "execution_count": 48,
   "id": "6313bb66",
   "metadata": {},
   "outputs": [
    {
     "data": {
      "text/plain": [
       "torch.Size([100000, 9])"
      ]
     },
     "execution_count": 48,
     "metadata": {},
     "output_type": "execute_result"
    }
   ],
   "source": [
    "training_set.shape"
   ]
  },
  {
   "cell_type": "code",
   "execution_count": 53,
   "id": "caace3f8",
   "metadata": {},
   "outputs": [
    {
     "data": {
      "text/plain": [
       "<Structure id=A>"
      ]
     },
     "execution_count": 53,
     "metadata": {},
     "output_type": "execute_result"
    }
   ],
   "source": [
    "true_deform"
   ]
  },
  {
   "cell_type": "code",
   "execution_count": 54,
   "id": "3fcb813a",
   "metadata": {},
   "outputs": [
    {
     "data": {
      "text/plain": [
       "300"
      ]
     },
     "execution_count": 54,
     "metadata": {},
     "output_type": "execute_result"
    }
   ],
   "source": [
    "cutoff1"
   ]
  },
  {
   "cell_type": "code",
   "execution_count": 66,
   "id": "1cf2c391",
   "metadata": {},
   "outputs": [
    {
     "data": {
      "text/plain": [
       "(9,)"
      ]
     },
     "execution_count": 66,
     "metadata": {},
     "output_type": "execute_result"
    }
   ],
   "source": [
    "training_set.detach().numpy()[0].shape"
   ]
  },
  {
   "cell_type": "code",
   "execution_count": 74,
   "id": "e87c58c4",
   "metadata": {},
   "outputs": [
    {
     "data": {
      "text/plain": [
       "array([ 3.033419 ,  6.9652543,  5.402593 ,  8.341074 , -4.0274734,\n",
       "       -1.6408566,  1.6286559, -4.7784586,  9.426848 ], dtype=float32)"
      ]
     },
     "execution_count": 74,
     "metadata": {},
     "output_type": "execute_result"
    }
   ],
   "source": [
    "training_set_python[0]"
   ]
  },
  {
   "cell_type": "code",
   "execution_count": 92,
   "id": "8652b968",
   "metadata": {},
   "outputs": [
    {
     "data": {
      "text/plain": [
       "(100000, 1510, 3)"
      ]
     },
     "execution_count": 92,
     "metadata": {},
     "output_type": "execute_result"
    }
   ],
   "source": [
    "translations_python.shape"
   ]
  },
  {
   "cell_type": "code",
   "execution_count": 94,
   "id": "50e6a794",
   "metadata": {},
   "outputs": [
    {
     "data": {
      "text/plain": [
       "<Structure id=A>"
      ]
     },
     "execution_count": 94,
     "metadata": {},
     "output_type": "execute_result"
    }
   ],
   "source": [
    "predicted_deform"
   ]
  },
  {
   "cell_type": "code",
   "execution_count": 118,
   "id": "677cc914",
   "metadata": {},
   "outputs": [
    {
     "data": {
      "text/plain": [
       "0.00017482848738120457"
      ]
     },
     "execution_count": 118,
     "metadata": {},
     "output_type": "execute_result"
    }
   ],
   "source": [
    "np.sqrt(3.0565e-08)"
   ]
  },
  {
   "cell_type": "code",
   "execution_count": null,
   "id": "1483f8fe",
   "metadata": {},
   "outputs": [],
   "source": []
  }
 ],
 "metadata": {
  "kernelspec": {
   "display_name": "segmentationLatentViz",
   "language": "python",
   "name": "segmentationlatentviz"
  },
  "language_info": {
   "codemirror_mode": {
    "name": "ipython",
    "version": 3
   },
   "file_extension": ".py",
   "mimetype": "text/x-python",
   "name": "python",
   "nbconvert_exporter": "python",
   "pygments_lexer": "ipython3",
   "version": "3.10.4"
  }
 },
 "nbformat": 4,
 "nbformat_minor": 5
}
