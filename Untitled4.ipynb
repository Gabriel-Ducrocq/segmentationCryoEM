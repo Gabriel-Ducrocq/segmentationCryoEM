{
 "cells": [
  {
   "cell_type": "code",
   "execution_count": 83,
   "id": "fc1266bd",
   "metadata": {},
   "outputs": [],
   "source": [
    "import nglview as nv\n",
    "import torch \n",
    "import numpy as np\n",
    "import matplotlib.pyplot as plt\n",
    "from Bio.PDB import PDBIO\n",
    "from Bio.PDB.PDBParser import PDBParser"
   ]
  },
  {
   "cell_type": "code",
   "execution_count": 119,
   "id": "ec90f9ed",
   "metadata": {},
   "outputs": [],
   "source": [
    "file = \"data/ranked_0_round1.pdb\"\n",
    "path = \"data/variationalBayesTest5/\""
   ]
  },
  {
   "cell_type": "code",
   "execution_count": 120,
   "id": "64d9e093",
   "metadata": {},
   "outputs": [],
   "source": [
    "def deform_pdb(structure, translations_python):\n",
    "    to_deform = structure.copy()\n",
    "    for model in to_deform:\n",
    "        for chain in model:\n",
    "            for k, residue in enumerate(chain):\n",
    "                for atom in residue:\n",
    "                    atom.set_coord(atom.get_coord() + translations_python[k])\n",
    "                    \n",
    "    return to_deform"
   ]
  },
  {
   "cell_type": "code",
   "execution_count": 121,
   "id": "a276e0e3",
   "metadata": {},
   "outputs": [],
   "source": [
    "def true_deform_pdb(structure, translations_python, cutoff1, cutoff2):\n",
    "    to_deform = structure.copy()\n",
    "    for model in to_deform:\n",
    "        for chain in model:\n",
    "            for k, residue in enumerate(chain):\n",
    "                for atom in residue:\n",
    "                    if k < cutoff1:\n",
    "                        atom.set_coord(atom.get_coord() + translations_python[:3])\n",
    "                    elif k < cutoff2:\n",
    "                        atom.set_coord(atom.get_coord() + translations_python[3:6])\n",
    "                    else:\n",
    "                        atom.set_coord(atom.get_coord() + translations_python[6:])\n",
    "                    \n",
    "    return to_deform"
   ]
  },
  {
   "cell_type": "code",
   "execution_count": 122,
   "id": "395b065f",
   "metadata": {},
   "outputs": [],
   "source": [
    "parser = PDBParser(PERMISSIVE=0)\n",
    "base_structure = parser.get_structure(\"A\", file)\n",
    "to_deform = base_structure.copy()"
   ]
  },
  {
   "cell_type": "code",
   "execution_count": 123,
   "id": "bb71fd20",
   "metadata": {},
   "outputs": [],
   "source": [
    "training_set = torch.load(path+\"training_set.npy\", map_location=torch.device('cpu'))\n",
    "full_model = torch.load(path+\"full_model\", map_location=torch.device('cpu'))"
   ]
  },
  {
   "cell_type": "code",
   "execution_count": 124,
   "id": "404ab6aa",
   "metadata": {},
   "outputs": [],
   "source": [
    "full_model.device = \"cpu\"\n",
    "full_model.batch_size = 100000\n",
    "cutoff1 = full_model.cutoff1\n",
    "cutoff2 = full_model.cutoff2"
   ]
  },
  {
   "cell_type": "code",
   "execution_count": 125,
   "id": "685a6afa",
   "metadata": {},
   "outputs": [],
   "source": [
    "indexes = torch.tensor(np.array(range(100000)))\n",
    "latent_vars = full_model.sample_q(indexes)\n",
    "new_struct, mask_weights, translations = full_model.forward(None, None, None, latent_vars)"
   ]
  },
  {
   "cell_type": "code",
   "execution_count": 126,
   "id": "f9aaa51e",
   "metadata": {},
   "outputs": [],
   "source": [
    "training_set_python = training_set.detach().numpy()\n",
    "translations_python = translations.detach().numpy()"
   ]
  },
  {
   "cell_type": "code",
   "execution_count": 127,
   "id": "1c1c9da9",
   "metadata": {},
   "outputs": [],
   "source": [
    "predicted_deform = deform_pdb(base_structure, translations_python[400])\n",
    "true_deform = true_deform_pdb(base_structure, training_set_python[400], cutoff1, cutoff2)"
   ]
  },
  {
   "cell_type": "code",
   "execution_count": 128,
   "id": "da25d633",
   "metadata": {},
   "outputs": [],
   "source": [
    "io = PDBIO()\n",
    "io.set_structure(true_deform)\n",
    "io.save(\"true.pdb\")\n",
    "\n",
    "io = PDBIO()\n",
    "io.set_structure(predicted_deform)\n",
    "io.save(\"test.pdb\")\n"
   ]
  },
  {
   "cell_type": "code",
   "execution_count": 132,
   "id": "70b4b2c0",
   "metadata": {},
   "outputs": [
    {
     "data": {
      "application/vnd.jupyter.widget-view+json": {
       "model_id": "d065350e30964f32b4162097fe4f5cdd",
       "version_major": 2,
       "version_minor": 0
      },
      "text/plain": [
       "NGLWidget()"
      ]
     },
     "metadata": {},
     "output_type": "display_data"
    }
   ],
   "source": [
    "view = nv.NGLWidget()\n",
    "view.add_component(\"data/ranked_0_round1.pdb\")\n",
    "view.add_component(\"test.pdb\")\n",
    "#view.add_component(\"true.pdb\")\n",
    "view"
   ]
  },
  {
   "cell_type": "code",
   "execution_count": 48,
   "id": "00521430",
   "metadata": {},
   "outputs": [
    {
     "data": {
      "text/plain": [
       "torch.Size([100000, 9])"
      ]
     },
     "execution_count": 48,
     "metadata": {},
     "output_type": "execute_result"
    }
   ],
   "source": [
    "training_set.shape"
   ]
  },
  {
   "cell_type": "code",
   "execution_count": 53,
   "id": "44579e06",
   "metadata": {},
   "outputs": [
    {
     "data": {
      "text/plain": [
       "<Structure id=A>"
      ]
     },
     "execution_count": 53,
     "metadata": {},
     "output_type": "execute_result"
    }
   ],
   "source": [
    "true_deform"
   ]
  },
  {
   "cell_type": "code",
   "execution_count": 54,
   "id": "b7d14e77",
   "metadata": {},
   "outputs": [
    {
     "data": {
      "text/plain": [
       "300"
      ]
     },
     "execution_count": 54,
     "metadata": {},
     "output_type": "execute_result"
    }
   ],
   "source": [
    "cutoff1"
   ]
  },
  {
   "cell_type": "code",
   "execution_count": 66,
   "id": "3570b46f",
   "metadata": {},
   "outputs": [
    {
     "data": {
      "text/plain": [
       "(9,)"
      ]
     },
     "execution_count": 66,
     "metadata": {},
     "output_type": "execute_result"
    }
   ],
   "source": [
    "training_set.detach().numpy()[0].shape"
   ]
  },
  {
   "cell_type": "code",
   "execution_count": 74,
   "id": "4dd9ab56",
   "metadata": {},
   "outputs": [
    {
     "data": {
      "text/plain": [
       "array([ 3.033419 ,  6.9652543,  5.402593 ,  8.341074 , -4.0274734,\n",
       "       -1.6408566,  1.6286559, -4.7784586,  9.426848 ], dtype=float32)"
      ]
     },
     "execution_count": 74,
     "metadata": {},
     "output_type": "execute_result"
    }
   ],
   "source": [
    "training_set_python[0]"
   ]
  },
  {
   "cell_type": "code",
   "execution_count": 92,
   "id": "f53bf324",
   "metadata": {},
   "outputs": [
    {
     "data": {
      "text/plain": [
       "(100000, 1510, 3)"
      ]
     },
     "execution_count": 92,
     "metadata": {},
     "output_type": "execute_result"
    }
   ],
   "source": [
    "translations_python.shape"
   ]
  },
  {
   "cell_type": "code",
   "execution_count": 94,
   "id": "e137559b",
   "metadata": {},
   "outputs": [
    {
     "data": {
      "text/plain": [
       "<Structure id=A>"
      ]
     },
     "execution_count": 94,
     "metadata": {},
     "output_type": "execute_result"
    }
   ],
   "source": [
    "predicted_deform"
   ]
  },
  {
   "cell_type": "code",
   "execution_count": 118,
   "id": "88232c4a",
   "metadata": {},
   "outputs": [
    {
     "data": {
      "text/plain": [
       "0.00017482848738120457"
      ]
     },
     "execution_count": 118,
     "metadata": {},
     "output_type": "execute_result"
    }
   ],
   "source": [
    "np.sqrt(3.0565e-08)"
   ]
  },
  {
   "cell_type": "code",
   "execution_count": null,
   "id": "85fd48d3",
   "metadata": {},
   "outputs": [],
   "source": []
  }
 ],
 "metadata": {
  "kernelspec": {
   "display_name": "segmentationLatentViz",
   "language": "python",
   "name": "segmentationlatentviz"
  },
  "language_info": {
   "codemirror_mode": {
    "name": "ipython",
    "version": 3
   },
   "file_extension": ".py",
   "mimetype": "text/x-python",
   "name": "python",
   "nbconvert_exporter": "python",
   "pygments_lexer": "ipython3",
   "version": "3.10.4"
  }
 },
 "nbformat": 4,
 "nbformat_minor": 5
}
