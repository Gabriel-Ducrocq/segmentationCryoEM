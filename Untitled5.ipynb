{
 "cells": [
  {
   "cell_type": "code",
   "execution_count": 2,
   "id": "fde84a92",
   "metadata": {},
   "outputs": [
    {
     "name": "stdout",
     "output_type": "stream",
     "text": [
      "['/Users/gabdu45/PycharmProjects/segmentationCryoEM', '/Users/gabdu45/opt/miniconda3/envs/sbi/lib/python39.zip', '/Users/gabdu45/opt/miniconda3/envs/sbi/lib/python3.9', '/Users/gabdu45/opt/miniconda3/envs/sbi/lib/python3.9/lib-dynload', '', '/Users/gabdu45/.local/lib/python3.9/site-packages', '/Users/gabdu45/.local/lib/python3.9/site-packages/classy-3.2.0-py3.9-macosx-10.9-x86_64.egg', '/Users/gabdu45/opt/miniconda3/envs/sbi/lib/python3.9/site-packages', '/Users/gabdu45/opt/miniconda3/envs/sbi/lib/python3.9/site-packages/diffusion-0.1-py3.9.egg', '/Users/gabdu45/opt/miniconda3/envs/sbi/lib/python3.9/site-packages/likelihoodFreeCosmology-0.1-py3.9.egg']\n"
     ]
    }
   ],
   "source": [
    "import sys\n",
    "print(sys.path)"
   ]
  },
  {
   "cell_type": "code",
   "execution_count": 3,
   "id": "6d717480",
   "metadata": {},
   "outputs": [],
   "source": [
    "import torch"
   ]
  },
  {
   "cell_type": "code",
   "execution_count": 4,
   "id": "dc6f33a5",
   "metadata": {},
   "outputs": [],
   "source": [
    "import diffusion"
   ]
  },
  {
   "cell_type": "code",
   "execution_count": null,
   "id": "41e3cb8b",
   "metadata": {},
   "outputs": [],
   "source": []
  }
 ],
 "metadata": {
  "kernelspec": {
   "display_name": "sbi",
   "language": "python",
   "name": "sbi"
  },
  "language_info": {
   "codemirror_mode": {
    "name": "ipython",
    "version": 3
   },
   "file_extension": ".py",
   "mimetype": "text/x-python",
   "name": "python",
   "nbconvert_exporter": "python",
   "pygments_lexer": "ipython3",
   "version": "3.9.16"
  }
 },
 "nbformat": 4,
 "nbformat_minor": 5
}
